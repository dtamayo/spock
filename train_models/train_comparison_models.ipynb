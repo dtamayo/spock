{
 "cells": [
  {
   "cell_type": "markdown",
   "metadata": {},
   "source": [
    "# Dont' use features that require transform to res variables with celmech in tseries. Almost as good as models that include them"
   ]
  },
  {
   "cell_type": "code",
   "execution_count": 34,
   "metadata": {},
   "outputs": [],
   "source": [
    "import numpy as np\n",
    "import matplotlib.pyplot as plt\n",
    "%matplotlib inline\n",
    "import pandas as pd\n",
    "from sklearn import metrics\n",
    "import xgboost as xgb\n",
    "from xgboost.sklearn import XGBClassifier\n",
    "from hyperopt import hp, fmin, tpe, STATUS_OK, Trials\n",
    "import hyperopt\n",
    "import dill\n",
    "import sys\n",
    "sys.path.append('../spock/')\n",
    "from modelfitting import train_test_split, ROC_curve, stable_unstable_hist, calibration_plot, unstable_error_fraction"
   ]
  },
  {
   "cell_type": "code",
   "execution_count": 35,
   "metadata": {},
   "outputs": [],
   "source": [
    "datapath = '../training_data/'\n",
    "dset = 'resonant/'\n",
    "Norbits = 1e4\n",
    "Nout = 80\n",
    "featureargs = (Norbits, Nout) # params to pass feature function\n",
    "featurefolder = 'additional_featuresNorbits{0:.1f}Nout{1}trio/'.format(Norbits, Nout)\n",
    "trainingdatafolder = datapath+dset+featurefolder"
   ]
  },
  {
   "cell_type": "code",
   "execution_count": 36,
   "metadata": {},
   "outputs": [],
   "source": [
    "space ={\n",
    "        'max_depth': hp.randint('x_max_depth',  20),\n",
    "        'min_child_weight': hp.quniform ('x_min_child', 1, 10, 1),\n",
    "        'subsample': hp.uniform ('x_subsample', 0.8, 1),\n",
    "        'scale_pos_weight': hp.uniform(\"x_pos_weight\", 1, 50),\n",
    "        \"learning_rate\":hp.uniform(\"x_learning_rate\",0.01,0.2),\n",
    "        'colsample_bytree': hp.uniform ('x_tree_colsample', 0.5,1),\n",
    "}\n",
    "\n",
    "def objective(params):\n",
    "    clf = XGBClassifier(n_estimators = 100,\n",
    "                            max_depth = params['max_depth'], \n",
    "                            min_child_weight = params['min_child_weight'],\n",
    "                            subsample = params['subsample'],\n",
    "                            colsample_bytree = params['colsample_bytree'],\n",
    "                            learning_rate = params['learning_rate'], seed = 0)\n",
    "    \n",
    "    score = xgb.cv(clf.get_xgb_params(), dtrain, nfold = 5, metrics = \"auc\", early_stopping_rounds=10)\n",
    "    avg_score =  np.mean(score[\"test-auc-mean\"])\n",
    "    error = np.mean(score[\"test-auc-std\"])\n",
    "    \n",
    "    print(\"SCORE:\", avg_score, \"ERROR\", error)#, \"HOLDOUT SCORE\", test_score)\n",
    "    return{'loss':1-avg_score, 'status': STATUS_OK, \"cv_score\":avg_score , \"cv_error\":error}"
   ]
  },
  {
   "cell_type": "markdown",
   "metadata": {},
   "source": [
    "# MEGNO"
   ]
  },
  {
   "cell_type": "code",
   "execution_count": 37,
   "metadata": {},
   "outputs": [
    {
     "name": "stderr",
     "output_type": "stream",
     "text": [
      "/home/dtamayo/miniconda3/envs/ml/lib/python3.7/site-packages/xgboost/core.py:587: FutureWarning: Series.base is deprecated and will be removed in a future version\n",
      "  if getattr(data, 'base', None) is not None and \\\n",
      "/home/dtamayo/miniconda3/envs/ml/lib/python3.7/site-packages/xgboost/core.py:588: FutureWarning: Series.base is deprecated and will be removed in a future version\n",
      "  data.base is not None and isinstance(data, np.ndarray) \\\n"
     ]
    }
   ],
   "source": [
    "features = ['MEGNO']\n",
    "\n",
    "trainX, trainY, testX, testY = train_test_split(trainingdatafolder, features, filter=False)\n",
    "\n",
    "dtrain = xgb.DMatrix(trainX, trainY)\n",
    "dtest = xgb.DMatrix(testX, testY)"
   ]
  },
  {
   "cell_type": "code",
   "execution_count": 5,
   "metadata": {},
   "outputs": [
    {
     "name": "stdout",
     "output_type": "stream",
     "text": [
      "SCORE:                                              \n",
      "0.84484394                                          \n",
      "ERROR                                               \n",
      "0.0074393150201747926                               \n",
      "SCORE:                                                                        \n",
      "0.8421723199999999                                                            \n",
      "ERROR                                                                         \n",
      "0.004886602137867676                                                          \n",
      "SCORE:                                                                        \n",
      "0.80630442                                                                    \n",
      "ERROR                                                                         \n",
      "0.0043388131633751315                                                         \n",
      "SCORE:                                                                        \n",
      "0.8477456999999999                                                            \n",
      "ERROR                                                                         \n",
      "0.007047643790503171                                                          \n",
      "SCORE:                                                                        \n",
      "0.8383877                                                                     \n",
      "ERROR                                                                         \n",
      "0.005209665606714263                                                          \n",
      "SCORE:                                                                        \n",
      "0.8374428                                                                     \n",
      "ERROR                                                                         \n",
      "0.0052204897220038855                                                         \n",
      "SCORE:                                                                        \n",
      "0.8381347400000001                                                            \n",
      "ERROR                                                                         \n",
      "0.004252327656667066                                                          \n",
      "SCORE:                                                                        \n",
      "0.5                                                                           \n",
      "ERROR                                                                         \n",
      "0.0                                                                           \n",
      "SCORE:                                                                        \n",
      "0.8366246                                                                     \n",
      "ERROR                                                                         \n",
      "0.005900175180576478                                                          \n",
      "SCORE:                                                                        \n",
      "0.8430963                                                                     \n",
      "ERROR                                                                         \n",
      "0.0045666586227912555                                                         \n",
      "SCORE:                                                                         \n",
      "0.8425517599999999                                                             \n",
      "ERROR                                                                          \n",
      "0.0045201933468382504                                                          \n",
      "SCORE:                                                                         \n",
      "0.80791126                                                                     \n",
      "ERROR                                                                          \n",
      "0.0044194237583399685                                                          \n",
      "SCORE:                                                                         \n",
      "0.8400736400000002                                                             \n",
      "ERROR                                                                          \n",
      "0.005300483982738274                                                           \n",
      "SCORE:                                                                         \n",
      "0.8429712200000001                                                             \n",
      "ERROR                                                                          \n",
      "0.004384744525524345                                                           \n",
      "SCORE:                                                                         \n",
      "0.84535456                                                                     \n",
      "ERROR                                                                          \n",
      "0.005371621852287469                                                           \n",
      "SCORE:                                                                         \n",
      "0.83924808                                                                     \n",
      "ERROR                                                                          \n",
      "0.004496212132310535                                                           \n",
      "SCORE:                                                                         \n",
      "0.8476552199999998                                                             \n",
      "ERROR                                                                          \n",
      "0.007137813458094398                                                           \n",
      "SCORE:                                                                         \n",
      "0.8477703200000001                                                             \n",
      "ERROR                                                                          \n",
      "0.006598027429588297                                                           \n",
      "SCORE:                                                                         \n",
      "0.8447395200000001                                                             \n",
      "ERROR                                                                          \n",
      "0.004727879069800311                                                           \n",
      "SCORE:                                                                         \n",
      "0.8420042799999999                                                             \n",
      "ERROR                                                                          \n",
      "0.007699609737997192                                                           \n",
      "SCORE:                                                                         \n",
      "0.8466033999999999                                                             \n",
      "ERROR                                                                          \n",
      "0.00726687431600386                                                            \n",
      "SCORE:                                                                         \n",
      "0.8488210800000001                                                             \n",
      "ERROR                                                                          \n",
      "0.006252686623099758                                                           \n",
      "SCORE:                                                                         \n",
      "0.8478334200000001                                                             \n",
      "ERROR                                                                          \n",
      "0.0066807117924371166                                                          \n",
      "SCORE:                                                                         \n",
      "0.8480537                                                                      \n",
      "ERROR                                                                          \n",
      "0.006713770249922686                                                           \n",
      "SCORE:                                                                         \n",
      "0.8423548000000001                                                             \n",
      "ERROR                                                                          \n",
      "0.004608060025126076                                                           \n",
      "SCORE:                                                                         \n",
      "0.84249306                                                                     \n",
      "ERROR                                                                          \n",
      "0.004536038156298085                                                           \n",
      "SCORE:                                                                         \n",
      "0.8448920399999998                                                             \n",
      "ERROR                                                                          \n",
      "0.004799754445578317                                                           \n",
      "SCORE:                                                                         \n",
      "0.8455425799999998                                                             \n",
      "ERROR                                                                          \n",
      "0.008428113656848634                                                           \n",
      "SCORE:                                                                         \n",
      "0.84744502                                                                     \n",
      "ERROR                                                                          \n",
      "0.00781403728583093                                                            \n",
      "SCORE:                                                                         \n",
      "0.84250072                                                                     \n",
      "ERROR                                                                          \n",
      "0.004729612503246239                                                           \n",
      "SCORE:                                                                         \n",
      "0.84693398                                                                     \n",
      "ERROR                                                                          \n",
      "0.006106407585534436                                                           \n",
      "SCORE:                                                                         \n",
      "0.84791838                                                                     \n",
      "ERROR                                                                          \n",
      "0.005979942947464873                                                           \n",
      "SCORE:                                                                         \n",
      "0.8475680999999999                                                             \n",
      "ERROR                                                                          \n",
      "0.0066270217338468135                                                          \n",
      "SCORE:                                                                         \n",
      "0.84222082                                                                     \n",
      "ERROR                                                                          \n",
      "0.004466923549081318                                                           \n",
      "SCORE:                                                                         \n",
      "0.8469311599999999                                                             \n",
      "ERROR                                                                          \n",
      "0.004841529631785616                                                           \n",
      "SCORE:                                                                         \n",
      "0.8407656400000001                                                             \n",
      "ERROR                                                                          \n",
      "0.004580889893637586                                                           \n",
      "SCORE:                                                                         \n",
      "0.5                                                                            \n",
      "ERROR                                                                          \n",
      "0.0                                                                            \n",
      "SCORE:                                                                         \n",
      "0.84364364                                                                     \n",
      "ERROR                                                                          \n",
      "0.004360130597477736                                                           \n",
      "SCORE:                                                                         \n",
      "0.84502942                                                                     \n",
      "ERROR                                                                          \n",
      "0.0047408552012842865                                                          \n",
      "SCORE:                                                                         \n",
      "0.83926804                                                                     \n",
      "ERROR                                                                          \n",
      "0.006733168687340576                                                           \n",
      "SCORE:                                                                         \n",
      "0.8391387399999999                                                             \n",
      "ERROR                                                                          \n",
      "0.005711998176535628                                                           \n",
      "SCORE:                                                                         \n",
      "0.8492407399999999                                                             \n",
      "ERROR                                                                          \n",
      "0.006910695017826258                                                           \n",
      "SCORE:                                                                         \n",
      "0.8494339200000001                                                             \n",
      "ERROR                                                                          \n",
      "0.007496820933458494                                                           \n",
      "SCORE:                                                                         \n",
      "0.8495493                                                                      \n",
      "ERROR                                                                          \n",
      "0.007504831171150424                                                           \n",
      "SCORE:                                                                         \n",
      "0.84953886                                                                     \n",
      "ERROR                                                                          \n",
      "0.007579052140848414                                                           \n",
      "SCORE:                                                                         \n",
      "0.84889456                                                                     \n",
      "ERROR                                                                          \n",
      "0.007712147311167444                                                           \n",
      "SCORE:                                                                         \n",
      "0.84894012                                                                     \n",
      "ERROR                                                                          \n",
      "0.007646197535682719                                                           \n",
      "SCORE:                                                                         \n",
      "0.81542654                                                                     \n",
      "ERROR                                                                          \n",
      "0.0055152358357793176                                                          \n",
      "SCORE:                                                                         \n",
      "0.84957858                                                                     \n",
      "ERROR                                                                          \n",
      "0.0075081854252159255                                                          \n",
      "SCORE:                                                                         \n",
      "0.84188258                                                                     \n",
      "ERROR                                                                          \n",
      "0.004817670116430342                                                           \n",
      "100%|██████████| 50/50 [00:11<00:00,  4.70it/s, best loss: 0.15042142000000003]\n",
      "Optimization Time: %f seconds 11.712692975997925\n",
      "CPU times: user 11.4 s, sys: 517 ms, total: 11.9 s\n",
      "Wall time: 11.7 s\n"
     ]
    }
   ],
   "source": [
    "%%time\n",
    "trials = Trials()\n",
    "import time\n",
    "start = time.time()\n",
    "best = fmin(fn=objective, space = space, algo = tpe.suggest, max_evals = 50, trials = trials, rstate=np.random.RandomState(seed=0))\n",
    "end = time.time()\n",
    "print(\"Optimization Time: %f seconds\", (end  -start))"
   ]
  },
  {
   "cell_type": "code",
   "execution_count": 6,
   "metadata": {},
   "outputs": [
    {
     "data": {
      "text/plain": [
       "{'x_learning_rate': 0.13527846760601117,\n",
       " 'x_max_depth': 4,\n",
       " 'x_min_child': 6.0,\n",
       " 'x_pos_weight': 45.560241294806346,\n",
       " 'x_subsample': 0.8328637344801604,\n",
       " 'x_tree_colsample': 0.5829112408130519}"
      ]
     },
     "execution_count": 6,
     "metadata": {},
     "output_type": "execute_result"
    }
   ],
   "source": [
    "best"
   ]
  },
  {
   "cell_type": "markdown",
   "metadata": {},
   "source": [
    "# Would have to set num_boost_round=100 to see the same CV score as in our final fitted model\n",
    "\n",
    "We're setting n_estimators=100 in model, which is the equivalent of num_boost_round in CV, so if we use the default in CV (10), we will get slightly lower powerformance"
   ]
  },
  {
   "cell_type": "code",
   "execution_count": 7,
   "metadata": {},
   "outputs": [
    {
     "name": "stdout",
     "output_type": "stream",
     "text": [
      "[0]\ttrain-auc:0.837277+0.00501696\ttest-auc:0.830125+0.0100857\n",
      "[1]\ttrain-auc:0.846174+0.00291536\ttest-auc:0.838227+0.00531545\n",
      "[2]\ttrain-auc:0.848722+0.00257747\ttest-auc:0.840518+0.00804642\n",
      "[3]\ttrain-auc:0.849954+0.0022392\ttest-auc:0.84165+0.00779114\n",
      "[4]\ttrain-auc:0.850259+0.00227539\ttest-auc:0.841781+0.0074654\n",
      "[5]\ttrain-auc:0.851093+0.00218285\ttest-auc:0.842541+0.0073059\n",
      "[6]\ttrain-auc:0.85238+0.00252498\ttest-auc:0.844498+0.00794074\n",
      "[7]\ttrain-auc:0.854816+0.00183686\ttest-auc:0.846291+0.00698309\n",
      "[8]\ttrain-auc:0.855724+0.00188358\ttest-auc:0.847744+0.00655961\n",
      "[9]\ttrain-auc:0.855839+0.00191307\ttest-auc:0.847654+0.00667776\n"
     ]
    },
    {
     "data": {
      "text/plain": [
       "XGBClassifier(base_score=0.5, booster='gbtree', colsample_bylevel=1,\n",
       "              colsample_bytree=0.5829112408130519, gamma=0,\n",
       "              learning_rate=0.13527846760601117, max_delta_step=0, max_depth=4,\n",
       "              min_child_weight=6.0, missing=None, n_estimators=100, n_jobs=1,\n",
       "              nthread=None, objective='binary:logistic', random_state=0,\n",
       "              reg_alpha=0, reg_lambda=1, scale_pos_weight=45.560241294806346,\n",
       "              seed=None, silent=True, subsample=0.8328637344801604)"
      ]
     },
     "execution_count": 7,
     "metadata": {},
     "output_type": "execute_result"
    }
   ],
   "source": [
    "model = XGBClassifier(n_estimators=100, scale_pos_weight=best[\"x_pos_weight\"],\n",
    "                         learning_rate = best[\"x_learning_rate\"], \n",
    "                         max_depth = int(best[\"x_max_depth\"]), \n",
    "                         min_child_weight = best[\"x_min_child\"],\n",
    "                         subsample = best[\"x_subsample\"], \n",
    "                         colsample_bytree = best[\"x_tree_colsample\"])\n",
    "\n",
    "score = xgb.cv(model.get_xgb_params(), dtrain, nfold = 5, metrics = \"auc\", verbose_eval=True, num_boost_round=10)\n",
    "model.fit(trainX, trainY)"
   ]
  },
  {
   "cell_type": "code",
   "execution_count": 8,
   "metadata": {},
   "outputs": [],
   "source": [
    "model.save_model(datapath+'../models/megno.bin')\n",
    "dill.dump([model, features, featureargs, featurefolder], open(datapath+\"../models/megno.pkl\", \"wb\"))"
   ]
  },
  {
   "cell_type": "code",
   "execution_count": 38,
   "metadata": {},
   "outputs": [
    {
     "data": {
      "text/plain": [
       "Text(0.5, 1.0, 'ROC curve (AUC = 0.854)')"
      ]
     },
     "execution_count": 38,
     "metadata": {},
     "output_type": "execute_result"
    },
    {
     "data": {
      "image/png": "[encoded data removed]",
      "text/plain": [
       "<Figure size 432x288 with 1 Axes>"
      ]
     },
     "metadata": {
      "needs_background": "light"
     },
     "output_type": "display_data"
    }
   ],
   "source": [
    "roc_auc, fpr, tpr, ROCthresholds = ROC_curve(trainingdatafolder, model, features)\n",
    "\n",
    "fig, ax = plt.subplots()\n",
    "ax.plot(fpr, tpr)\n",
    "ax.plot([0, 1], [0, 1], 'k--')\n",
    "ax.set_xlim([0.0, 1.0])\n",
    "ax.set_ylim([0.0, 1.0])\n",
    "ax.set_xlabel('False Positive Rate')\n",
    "ax.set_ylabel('True Positive Rate')\n",
    "ax.set_title('ROC curve (AUC = {0:.3f})'.format(roc_auc))"
   ]
  },
  {
   "cell_type": "code",
   "execution_count": 32,
   "metadata": {},
   "outputs": [],
   "source": [
    "model, features, featureargs, featurefolder = dill.load(open('../models/megno.pkl', 'rb'))"
   ]
  },
  {
   "cell_type": "code",
   "execution_count": 39,
   "metadata": {},
   "outputs": [
    {
     "name": "stdout",
     "output_type": "stream",
     "text": [
      "Threshold 1.986767053604126, TPR = 0.0, FPR = 0.0\n",
      "Threshold 0.9828478097915649, TPR = 0.46395563770794823, FPR = 0.10281014393420151\n",
      "Threshold 0.9780053496360779, TPR = 0.5988909426987061, FPR = 0.14667580534612748\n",
      "Threshold 0.9729015231132507, TPR = 0.7245841035120147, FPR = 0.20356408498971898\n",
      "Threshold 0.9656872153282166, TPR = 0.7837338262476895, FPR = 0.23166552433173407\n",
      "Threshold 0.9528119564056396, TPR = 0.878003696857671, FPR = 0.2844413982179575\n",
      "Threshold 0.9230935573577881, TPR = 0.911275415896488, FPR = 0.3125428375599726\n",
      "Threshold 0.8944224119186401, TPR = 0.9390018484288355, FPR = 0.33584647018505825\n",
      "Threshold 0.8453112244606018, TPR = 0.955637707948244, FPR = 0.38108293351610695\n",
      "Threshold 0.7667815089225769, TPR = 0.966728280961183, FPR = 0.4139821795750514\n",
      "Threshold 0.5260517597198486, TPR = 0.9685767097966729, FPR = 0.4516792323509253\n",
      "Threshold 0.29911142587661743, TPR = 0.9870609981515711, FPR = 0.5942426319396847\n",
      "Threshold 0.15088576078414917, TPR = 0.9981515711645101, FPR = 0.6764907470870459\n"
     ]
    }
   ],
   "source": [
    "for i in range(0,len(tpr), 15):\n",
    "    print(\"Threshold {0}, TPR = {1}, FPR = {2}\".format(ROCthresholds[i], tpr[i], fpr[i]))"
   ]
  },
  {
   "cell_type": "markdown",
   "metadata": {},
   "source": [
    "# AMD"
   ]
  },
  {
   "cell_type": "code",
   "execution_count": 10,
   "metadata": {},
   "outputs": [
    {
     "name": "stderr",
     "output_type": "stream",
     "text": [
      "/home/dtamayo/miniconda3/envs/ml/lib/python3.7/site-packages/xgboost/core.py:587: FutureWarning: Series.base is deprecated and will be removed in a future version\n",
      "  if getattr(data, 'base', None) is not None and \\\n",
      "/home/dtamayo/miniconda3/envs/ml/lib/python3.7/site-packages/xgboost/core.py:588: FutureWarning: Series.base is deprecated and will be removed in a future version\n",
      "  data.base is not None and isinstance(data, np.ndarray) \\\n"
     ]
    }
   ],
   "source": [
    "features = ['AMDtriofracnear', 'AMDtriofracfar']\n",
    "\n",
    "trainX, trainY, testX, testY = train_test_split(trainingdatafolder, features, filter=False)\n",
    "\n",
    "dtrain = xgb.DMatrix(trainX, trainY)\n",
    "dtest = xgb.DMatrix(testX, testY)"
   ]
  },
  {
   "cell_type": "code",
   "execution_count": 11,
   "metadata": {},
   "outputs": [
    {
     "name": "stdout",
     "output_type": "stream",
     "text": [
      "SCORE:                                              \n",
      "0.7107800400000001                                  \n",
      "ERROR                                               \n",
      "0.014161693766472383                                \n",
      "SCORE:                                                                        \n",
      "0.69676218                                                                    \n",
      "ERROR                                                                         \n",
      "0.013973267520111915                                                          \n",
      "SCORE:                                                                        \n",
      "0.690763                                                                      \n",
      "ERROR                                                                         \n",
      "0.019004530367468568                                                          \n",
      "SCORE:                                                                        \n",
      "0.7215800399999999                                                            \n",
      "ERROR                                                                         \n",
      "0.01614056592855313                                                           \n",
      "SCORE:                                                                        \n",
      "0.6971673                                                                     \n",
      "ERROR                                                                         \n",
      "0.012740268836673918                                                          \n",
      "SCORE:                                                                        \n",
      "0.6981102000000001                                                            \n",
      "ERROR                                                                         \n",
      "0.014422043226051779                                                          \n",
      "SCORE:                                                                        \n",
      "0.6965555400000001                                                            \n",
      "ERROR                                                                         \n",
      "0.010086936567799364                                                          \n",
      "SCORE:                                                                        \n",
      "0.5                                                                           \n",
      "ERROR                                                                         \n",
      "0.0                                                                           \n",
      "SCORE:                                                                        \n",
      "0.70194176                                                                    \n",
      "ERROR                                                                         \n",
      "0.014185284051174035                                                          \n",
      "SCORE:                                                                        \n",
      "0.6995014399999999                                                            \n",
      "ERROR                                                                         \n",
      "0.012987147335921734                                                          \n",
      "SCORE:                                                                         \n",
      "0.6988714                                                                      \n",
      "ERROR                                                                          \n",
      "0.013552766183482775                                                           \n",
      "SCORE:                                                                         \n",
      "0.69115742                                                                     \n",
      "ERROR                                                                          \n",
      "0.01793319375225205                                                            \n",
      "SCORE:                                                                         \n",
      "0.69353266                                                                     \n",
      "ERROR                                                                          \n",
      "0.013796322859222776                                                           \n",
      "SCORE:                                                                         \n",
      "0.7027575999999999                                                             \n",
      "ERROR                                                                          \n",
      "0.014863073146425518                                                           \n",
      "SCORE:                                                                         \n",
      "0.70507386                                                                     \n",
      "ERROR                                                                          \n",
      "0.014897316278711176                                                           \n",
      "SCORE:                                                                         \n",
      "0.7033586199999999                                                             \n",
      "ERROR                                                                          \n",
      "0.013093395686284445                                                           \n",
      "SCORE:                                                                         \n",
      "0.71886946                                                                     \n",
      "ERROR                                                                          \n",
      "0.01473414343210643                                                            \n",
      "SCORE:                                                                         \n",
      "0.71155366                                                                     \n",
      "ERROR                                                                          \n",
      "0.013847020081338122                                                           \n",
      "SCORE:                                                                         \n",
      "0.7007553400000001                                                             \n",
      "ERROR                                                                          \n",
      "0.01407201002177918                                                            \n",
      "SCORE:                                                                         \n",
      "0.7193673599999999                                                             \n",
      "ERROR                                                                          \n",
      "0.015759674025118558                                                           \n",
      "SCORE:                                                                         \n",
      "0.7188596                                                                      \n",
      "ERROR                                                                          \n",
      "0.016329258733858983                                                           \n",
      "SCORE:                                                                         \n",
      "0.7150032399999999                                                             \n",
      "ERROR                                                                          \n",
      "0.015302519181568119                                                           \n",
      "SCORE:                                                                         \n",
      "0.720819                                                                       \n",
      "ERROR                                                                          \n",
      "0.01496577854986085                                                            \n",
      "SCORE:                                                                         \n",
      "0.7205993                                                                      \n",
      "ERROR                                                                          \n",
      "0.014874477418612215                                                           \n",
      "SCORE:                                                                         \n",
      "0.72058472                                                                     \n",
      "ERROR                                                                          \n",
      "0.014911950785988438                                                           \n",
      "SCORE:                                                                         \n",
      "0.7030087999999999                                                             \n",
      "ERROR                                                                          \n",
      "0.0156605412440768                                                             \n",
      "SCORE:                                                                         \n",
      "0.72130312                                                                     \n",
      "ERROR                                                                          \n",
      "0.015363075240456516                                                           \n",
      "SCORE:                                                                         \n",
      "0.6888559200000001                                                             \n",
      "ERROR                                                                          \n",
      "0.012126391476928074                                                           \n",
      "SCORE:                                                                         \n",
      "0.69934498                                                                     \n",
      "ERROR                                                                          \n",
      "0.01351786115491925                                                            \n",
      "SCORE:                                                                         \n",
      "0.7209928600000001                                                             \n",
      "ERROR                                                                          \n",
      "0.015424728871028035                                                           \n",
      "SCORE:                                                                         \n",
      "0.6881444600000001                                                             \n",
      "ERROR                                                                          \n",
      "0.011503823370357614                                                           \n",
      "SCORE:                                                                         \n",
      "0.5                                                                            \n",
      "ERROR                                                                          \n",
      "0.0                                                                            \n",
      "SCORE:                                                                         \n",
      "0.71043466                                                                     \n",
      "ERROR                                                                          \n",
      "0.013292513199021066                                                           \n",
      "SCORE:                                                                         \n",
      "0.6974967599999999                                                             \n",
      "ERROR                                                                          \n",
      "0.012269113637958878                                                           \n",
      "SCORE:                                                                         \n",
      "0.6973362                                                                      \n",
      "ERROR                                                                          \n",
      "0.014155671126927501                                                           \n",
      "SCORE:                                                                         \n",
      "0.69113236                                                                     \n",
      "ERROR                                                                          \n",
      "0.011420820952695572                                                           \n",
      "SCORE:                                                                         \n",
      "0.7199172                                                                      \n",
      "ERROR                                                                          \n",
      "0.015537943100910476                                                           \n",
      "SCORE:                                                                         \n",
      "0.70304186                                                                     \n",
      "ERROR                                                                          \n",
      "0.0148439798307236                                                             \n",
      "SCORE:                                                                         \n",
      "0.71831818                                                                     \n",
      "ERROR                                                                          \n",
      "0.014397274623111096                                                           \n",
      "SCORE:                                                                         \n",
      "0.7043791399999999                                                             \n",
      "ERROR                                                                          \n",
      "0.013439394663868984                                                           \n",
      "SCORE:                                                                         \n",
      "0.6891020600000001                                                             \n",
      "ERROR                                                                          \n",
      "0.012494007962314283                                                           \n",
      "SCORE:                                                                         \n",
      "0.6899049799999999                                                             \n",
      "ERROR                                                                          \n",
      "0.015644319746411735                                                           \n",
      "SCORE:                                                                         \n",
      "0.7063893                                                                      \n",
      "ERROR                                                                          \n",
      "0.015203715454615935                                                           \n",
      "SCORE:                                                                         \n",
      "0.71922794                                                                     \n",
      "ERROR                                                                          \n",
      "0.015425976635594205                                                           \n",
      "SCORE:                                                                         \n",
      "0.71157698                                                                     \n",
      "ERROR                                                                          \n",
      "0.013001728135639507                                                           \n",
      "SCORE:                                                                         \n",
      "0.72050658                                                                     \n",
      "ERROR                                                                          \n",
      "0.014974080046224598                                                           \n",
      "SCORE:                                                                         \n",
      "0.69068924                                                                     \n",
      "ERROR                                                                          \n",
      "0.012743117943505656                                                           \n",
      "SCORE:                                                                         \n",
      "0.70040378                                                                     \n",
      "ERROR                                                                          \n",
      "0.014681855732174088                                                           \n",
      "SCORE:                                                                         \n",
      "0.7112497600000001                                                             \n",
      "ERROR                                                                          \n",
      "0.01303379795472975                                                            \n",
      "SCORE:                                                                         \n",
      "0.69691904                                                                     \n",
      "ERROR                                                                          \n",
      "0.012802848103239072                                                           \n",
      "100%|██████████| 50/50 [00:12<00:00,  3.49it/s, best loss: 0.27841996000000013]\n",
      "Optimization Time: %f seconds 12.614498615264893\n",
      "CPU times: user 12.5 s, sys: 284 ms, total: 12.8 s\n",
      "Wall time: 12.6 s\n"
     ]
    }
   ],
   "source": [
    "%%time\n",
    "trials = Trials()\n",
    "import time\n",
    "start = time.time()\n",
    "best = fmin(fn=objective, space = space, algo = tpe.suggest, max_evals = 50, trials = trials, rstate=np.random.RandomState(seed=0))\n",
    "end = time.time()\n",
    "print(\"Optimization Time: %f seconds\", (end  -start))"
   ]
  },
  {
   "cell_type": "code",
   "execution_count": 12,
   "metadata": {},
   "outputs": [
    {
     "data": {
      "text/plain": [
       "{'x_learning_rate': 0.19434304613623124,\n",
       " 'x_max_depth': 3,\n",
       " 'x_min_child': 3.0,\n",
       " 'x_pos_weight': 17.77188900907022,\n",
       " 'x_subsample': 0.8115795687387061,\n",
       " 'x_tree_colsample': 0.7643458710377253}"
      ]
     },
     "execution_count": 12,
     "metadata": {},
     "output_type": "execute_result"
    }
   ],
   "source": [
    "best"
   ]
  },
  {
   "cell_type": "code",
   "execution_count": 13,
   "metadata": {},
   "outputs": [
    {
     "name": "stdout",
     "output_type": "stream",
     "text": [
      "[0]\ttrain-auc:0.679704+0.00509602\ttest-auc:0.669367+0.015963\n",
      "[1]\ttrain-auc:0.728661+0.0220742\ttest-auc:0.713131+0.0347427\n",
      "[2]\ttrain-auc:0.737376+0.00504035\ttest-auc:0.724477+0.0155146\n",
      "[3]\ttrain-auc:0.737691+0.00754712\ttest-auc:0.725555+0.0138723\n",
      "[4]\ttrain-auc:0.736201+0.00803513\ttest-auc:0.723717+0.0158753\n",
      "[5]\ttrain-auc:0.736344+0.00813727\ttest-auc:0.722858+0.0191462\n",
      "[6]\ttrain-auc:0.738145+0.0107858\ttest-auc:0.724182+0.0184817\n",
      "[7]\ttrain-auc:0.742295+0.00647462\ttest-auc:0.726406+0.01519\n",
      "[8]\ttrain-auc:0.743083+0.00780656\ttest-auc:0.72673+0.0149984\n",
      "[9]\ttrain-auc:0.743833+0.00907932\ttest-auc:0.727251+0.0168758\n"
     ]
    },
    {
     "data": {
      "text/plain": [
       "XGBClassifier(base_score=0.5, booster='gbtree', colsample_bylevel=1,\n",
       "              colsample_bytree=0.7643458710377253, gamma=0,\n",
       "              learning_rate=0.19434304613623124, max_delta_step=0, max_depth=3,\n",
       "              min_child_weight=3.0, missing=None, n_estimators=100, n_jobs=1,\n",
       "              nthread=None, objective='binary:logistic', random_state=0,\n",
       "              reg_alpha=0, reg_lambda=1, scale_pos_weight=17.77188900907022,\n",
       "              seed=None, silent=True, subsample=0.8115795687387061)"
      ]
     },
     "execution_count": 13,
     "metadata": {},
     "output_type": "execute_result"
    }
   ],
   "source": [
    "model = XGBClassifier(n_estimators=100, scale_pos_weight=best[\"x_pos_weight\"],\n",
    "                         learning_rate = best[\"x_learning_rate\"], \n",
    "                         max_depth = int(best[\"x_max_depth\"]), \n",
    "                         min_child_weight = best[\"x_min_child\"],\n",
    "                         subsample = best[\"x_subsample\"], \n",
    "                         colsample_bytree = best[\"x_tree_colsample\"])\n",
    "\n",
    "score = xgb.cv(model.get_xgb_params(), dtrain, nfold = 5, metrics = \"auc\", verbose_eval=True, num_boost_round=10)\n",
    "model.fit(trainX, trainY)"
   ]
  },
  {
   "cell_type": "code",
   "execution_count": 14,
   "metadata": {},
   "outputs": [],
   "source": [
    "model.save_model(datapath+'../models/AMD.bin')\n",
    "dill.dump([model, features, featureargs, featurefolder], open(datapath+\"../models/AMD.pkl\", \"wb\"))"
   ]
  },
  {
   "cell_type": "code",
   "execution_count": 15,
   "metadata": {},
   "outputs": [
    {
     "data": {
      "text/plain": [
       "Text(0.5, 1.0, 'ROC curve (AUC = 0.731)')"
      ]
     },
     "execution_count": 15,
     "metadata": {},
     "output_type": "execute_result"
    },
    {
     "data": {
      "image/png": "[encoded data removed]",
      "text/plain": [
       "<Figure size 432x288 with 1 Axes>"
      ]
     },
     "metadata": {
      "needs_background": "light"
     },
     "output_type": "display_data"
    }
   ],
   "source": [
    "roc_auc, fpr, tpr, ROCthresholds = ROC_curve(trainingdatafolder, model, features)\n",
    "\n",
    "fig, ax = plt.subplots()\n",
    "ax.plot(fpr, tpr)\n",
    "ax.plot([0, 1], [0, 1], 'k--')\n",
    "ax.set_xlim([0.0, 1.0])\n",
    "ax.set_ylim([0.0, 1.0])\n",
    "ax.set_xlabel('False Positive Rate')\n",
    "ax.set_ylabel('True Positive Rate')\n",
    "ax.set_title('ROC curve (AUC = {0:.3f})'.format(roc_auc))"
   ]
  },
  {
   "cell_type": "markdown",
   "metadata": {},
   "source": [
    "# Hill"
   ]
  },
  {
   "cell_type": "code",
   "execution_count": 16,
   "metadata": {},
   "outputs": [
    {
     "name": "stderr",
     "output_type": "stream",
     "text": [
      "/home/dtamayo/miniconda3/envs/ml/lib/python3.7/site-packages/xgboost/core.py:587: FutureWarning: Series.base is deprecated and will be removed in a future version\n",
      "  if getattr(data, 'base', None) is not None and \\\n",
      "/home/dtamayo/miniconda3/envs/ml/lib/python3.7/site-packages/xgboost/core.py:588: FutureWarning: Series.base is deprecated and will be removed in a future version\n",
      "  data.base is not None and isinstance(data, np.ndarray) \\\n"
     ]
    }
   ],
   "source": [
    "features = ['betanear', 'betafar']\n",
    "\n",
    "trainX, trainY, testX, testY = train_test_split(trainingdatafolder, features, filter=False)\n",
    "\n",
    "dtrain = xgb.DMatrix(trainX, trainY)\n",
    "dtest = xgb.DMatrix(testX, testY)"
   ]
  },
  {
   "cell_type": "code",
   "execution_count": 17,
   "metadata": {},
   "outputs": [
    {
     "name": "stdout",
     "output_type": "stream",
     "text": [
      "SCORE:                                              \n",
      "0.6929808                                           \n",
      "ERROR                                               \n",
      "0.01795402041738981                                 \n",
      "SCORE:                                                                        \n",
      "0.67464344                                                                    \n",
      "ERROR                                                                         \n",
      "0.01842240069527127                                                           \n",
      "SCORE:                                                                        \n",
      "0.6792827                                                                     \n",
      "ERROR                                                                         \n",
      "0.01082282838620357                                                           \n",
      "SCORE:                                                                        \n",
      "0.70676014                                                                    \n",
      "ERROR                                                                         \n",
      "0.01676707124092478                                                           \n",
      "SCORE:                                                                        \n",
      "0.6684986                                                            \n",
      "ERROR                                                                \n",
      "0.02069816066012801                                                  \n",
      "SCORE:                                                               \n",
      "0.66993928                                                           \n",
      "ERROR                                                                \n",
      "0.02195683690027352                                                  \n",
      "SCORE:                                                               \n",
      "0.66804376                                                           \n",
      "ERROR                                                                \n",
      "0.021452587271459052                                                 \n",
      "SCORE:                                                               \n",
      "0.5                                                                  \n",
      "ERROR                                                                \n",
      "0.0                                                                  \n",
      "SCORE:                                                               \n",
      "0.6831453200000001                                                   \n",
      "ERROR                                                                \n",
      "0.019315417525064122                                                 \n",
      "SCORE:                                                               \n",
      "0.6766174200000001                                                   \n",
      "ERROR                                                                \n",
      "0.019312691342689613                                                 \n",
      "SCORE:                                                                \n",
      "0.6772256                                                             \n",
      "ERROR                                                                 \n",
      "0.01870103855710017                                                   \n",
      "SCORE:                                                                \n",
      "0.6805470600000001                                                    \n",
      "ERROR                                                                 \n",
      "0.011872725802958306                                                  \n",
      "SCORE:                                                                \n",
      "0.66922856                                                            \n",
      "ERROR                                                                 \n",
      "0.02166152591678796                                                   \n",
      "SCORE:                                                                \n",
      "0.6786409600000001                                                    \n",
      "ERROR                                                                 \n",
      "0.0184003301267605                                                    \n",
      "SCORE:                                                                \n",
      "0.6859121800000001                                                    \n",
      "ERROR                                                                 \n",
      "0.019561061986180753                                                  \n",
      "SCORE:                                                                \n",
      "0.674735                                                              \n",
      "ERROR                                                                 \n",
      "0.02011847547031197                                                   \n",
      "SCORE:                                                                \n",
      "0.7046491400000001                                                    \n",
      "ERROR                                                                 \n",
      "0.017318676470963426                                                  \n",
      "SCORE:                                                                \n",
      "0.6969744400000001                                                    \n",
      "ERROR                                                                 \n",
      "0.018671435426498285                                                  \n",
      "SCORE:                                                                \n",
      "0.67815642                                                            \n",
      "ERROR                                                                 \n",
      "0.01799120025458666                                                   \n",
      "SCORE:                                                                \n",
      "0.70805694                                                            \n",
      "ERROR                                                                 \n",
      "0.015085408101571352                                                  \n",
      "SCORE:                                                                         \n",
      "0.7077447400000001                                                             \n",
      "ERROR                                                                          \n",
      "0.015499275865168407                                                           \n",
      "SCORE:                                                                         \n",
      "0.66706138                                                                     \n",
      "ERROR                                                                          \n",
      "0.016438714086531858                                                           \n",
      "SCORE:                                                                         \n",
      "0.70721174                                                                     \n",
      "ERROR                                                                          \n",
      "0.015697695136574437                                                           \n",
      "SCORE:                                                                         \n",
      "0.70604156                                                                     \n",
      "ERROR                                                                          \n",
      "0.01537075955797729                                                            \n",
      "SCORE:                                                                         \n",
      "0.67599798                                                                     \n",
      "ERROR                                                                          \n",
      "0.019230515915132203                                                           \n",
      "SCORE:                                                                         \n",
      "0.7020023                                                                      \n",
      "ERROR                                                                          \n",
      "0.01604169502611861                                                            \n",
      "SCORE:                                                                         \n",
      "0.68471048                                                                     \n",
      "ERROR                                                                          \n",
      "0.017967247204133504                                                           \n",
      "SCORE:                                                                         \n",
      "0.66099488                                                                     \n",
      "ERROR                                                                          \n",
      "0.01789011988890886                                                            \n",
      "SCORE:                                                                         \n",
      "0.7060164                                                                      \n",
      "ERROR                                                                          \n",
      "0.01574783121950022                                                            \n",
      "SCORE:                                                                         \n",
      "0.70700556                                                                     \n",
      "ERROR                                                                          \n",
      "0.01563315402926617                                                            \n",
      "SCORE:                                                                         \n",
      "0.69289566                                                                     \n",
      "ERROR                                                                          \n",
      "0.016527339022348504                                                           \n",
      "SCORE:                                                                         \n",
      "0.7031360999999999                                                             \n",
      "ERROR                                                                          \n",
      "0.016103915031912653                                                           \n",
      "SCORE:                                                                         \n",
      "0.67559652                                                                     \n",
      "ERROR                                                                          \n",
      "0.01761153255581753                                                            \n",
      "SCORE:                                                                         \n",
      "0.70673058                                                                     \n",
      "ERROR                                                                          \n",
      "0.01770644011502239                                                            \n",
      "SCORE:                                                                         \n",
      "0.67146362                                                                     \n",
      "ERROR                                                                          \n",
      "0.018588841057247417                                                           \n",
      "SCORE:                                                                         \n",
      "0.6671033399999999                                                             \n",
      "ERROR                                                                          \n",
      "0.018428558367519086                                                           \n",
      "SCORE:                                                                         \n",
      "0.5                                                                            \n",
      "ERROR                                                                          \n",
      "0.0                                                                            \n",
      "SCORE:                                                                         \n",
      "0.68120492                                                                     \n",
      "ERROR                                                                          \n",
      "0.020364116042784076                                                           \n",
      "SCORE:                                                                         \n",
      "0.70615604                                                                     \n",
      "ERROR                                                                          \n",
      "0.0177987948226065                                                             \n",
      "SCORE:                                                                         \n",
      "0.66662268                                                                     \n",
      "ERROR                                                                          \n",
      "0.01909189352688807                                                            \n",
      "SCORE:                                                                         \n",
      "0.68573436                                                                     \n",
      "ERROR                                                                          \n",
      "0.01942347314915588                                                            \n",
      "SCORE:                                                                         \n",
      "0.6759398600000001                                                             \n",
      "ERROR                                                                          \n",
      "0.020047803747587595                                                           \n",
      "SCORE:                                                                         \n",
      "0.7026469999999999                                                             \n",
      "ERROR                                                                          \n",
      "0.018125543246084792                                                           \n",
      "SCORE:                                                                         \n",
      "0.6981882399999999                                                             \n",
      "ERROR                                                                          \n",
      "0.016904040072110833                                                           \n",
      "SCORE:                                                                         \n",
      "0.6890563000000001                                                             \n",
      "ERROR                                                                          \n",
      "0.01541845870813762                                                            \n",
      "SCORE:                                                                         \n",
      "0.6828964799999999                                                             \n",
      "ERROR                                                                          \n",
      "0.019861079050526916                                                           \n",
      "SCORE:                                                                         \n",
      "0.70644638                                                                     \n",
      "ERROR                                                                          \n",
      "0.01573943275424991                                                            \n",
      "SCORE:                                                                         \n",
      "0.6756132                                                                      \n",
      "ERROR                                                                          \n",
      "0.019972740724096716                                                           \n",
      "SCORE:                                                                         \n",
      "0.68933574                                                                     \n",
      "ERROR                                                                          \n",
      "0.018981897077890726                                                           \n",
      "SCORE:                                                                         \n",
      "0.7038703399999999                                                             \n",
      "ERROR                                                                          \n",
      "0.018782936916007194                                                           \n",
      "100%|██████████| 50/50 [00:10<00:00,  4.88it/s, best loss: 0.29194306000000003]\n",
      "Optimization Time: %f seconds 10.98700761795044\n",
      "CPU times: user 11 s, sys: 206 ms, total: 11.2 s\n",
      "Wall time: 11 s\n"
     ]
    }
   ],
   "source": [
    "%%time\n",
    "trials = Trials()\n",
    "import time\n",
    "start = time.time()\n",
    "best = fmin(fn=objective, space = space, algo = tpe.suggest, max_evals = 50, trials = trials, rstate=np.random.RandomState(seed=0))\n",
    "end = time.time()\n",
    "print(\"Optimization Time: %f seconds\", (end  -start))"
   ]
  },
  {
   "cell_type": "code",
   "execution_count": 18,
   "metadata": {},
   "outputs": [
    {
     "data": {
      "text/plain": [
       "{'x_learning_rate': 0.19920254046579614,\n",
       " 'x_max_depth': 2,\n",
       " 'x_min_child': 4.0,\n",
       " 'x_pos_weight': 13.159685920910627,\n",
       " 'x_subsample': 0.9211190570281913,\n",
       " 'x_tree_colsample': 0.7488159420431533}"
      ]
     },
     "execution_count": 18,
     "metadata": {},
     "output_type": "execute_result"
    }
   ],
   "source": [
    "best"
   ]
  },
  {
   "cell_type": "code",
   "execution_count": 19,
   "metadata": {},
   "outputs": [
    {
     "data": {
      "text/plain": [
       "{'x_learning_rate': 0.19920254046579614,\n",
       " 'x_max_depth': 2,\n",
       " 'x_min_child': 4.0,\n",
       " 'x_pos_weight': 13.159685920910627,\n",
       " 'x_subsample': 0.9211190570281913,\n",
       " 'x_tree_colsample': 0.7488159420431533}"
      ]
     },
     "execution_count": 19,
     "metadata": {},
     "output_type": "execute_result"
    }
   ],
   "source": [
    "best"
   ]
  },
  {
   "cell_type": "code",
   "execution_count": 20,
   "metadata": {},
   "outputs": [
    {
     "name": "stdout",
     "output_type": "stream",
     "text": [
      "[0]\ttrain-auc:0.66536+0.0038668\ttest-auc:0.661185+0.00448844\n",
      "[1]\ttrain-auc:0.715042+0.0214481\ttest-auc:0.70571+0.0186714\n",
      "[2]\ttrain-auc:0.720583+0.00520418\ttest-auc:0.711199+0.0111802\n",
      "[3]\ttrain-auc:0.721101+0.00659697\ttest-auc:0.711955+0.0174144\n",
      "[4]\ttrain-auc:0.717294+0.0075326\ttest-auc:0.709242+0.020086\n",
      "[5]\ttrain-auc:0.72147+0.00861725\ttest-auc:0.712375+0.0182064\n",
      "[6]\ttrain-auc:0.723624+0.00534701\ttest-auc:0.714166+0.0172506\n",
      "[7]\ttrain-auc:0.727959+0.0032518\ttest-auc:0.717696+0.0126114\n",
      "[8]\ttrain-auc:0.727241+0.00344409\ttest-auc:0.716504+0.0142674\n",
      "[9]\ttrain-auc:0.727773+0.00459865\ttest-auc:0.717217+0.0164712\n"
     ]
    },
    {
     "data": {
      "text/plain": [
       "XGBClassifier(base_score=0.5, booster='gbtree', colsample_bylevel=1,\n",
       "              colsample_bytree=0.7488159420431533, gamma=0,\n",
       "              learning_rate=0.19920254046579614, max_delta_step=0, max_depth=2,\n",
       "              min_child_weight=4.0, missing=None, n_estimators=100, n_jobs=1,\n",
       "              nthread=None, objective='binary:logistic', random_state=0,\n",
       "              reg_alpha=0, reg_lambda=1, scale_pos_weight=13.159685920910627,\n",
       "              seed=None, silent=True, subsample=0.9211190570281913)"
      ]
     },
     "execution_count": 20,
     "metadata": {},
     "output_type": "execute_result"
    }
   ],
   "source": [
    "model = XGBClassifier(n_estimators=100, scale_pos_weight=best[\"x_pos_weight\"],\n",
    "                         learning_rate = best[\"x_learning_rate\"], \n",
    "                         max_depth = int(best[\"x_max_depth\"]), \n",
    "                         min_child_weight = best[\"x_min_child\"],\n",
    "                         subsample = best[\"x_subsample\"], \n",
    "                         colsample_bytree = best[\"x_tree_colsample\"])\n",
    "\n",
    "score = xgb.cv(model.get_xgb_params(), dtrain, nfold = 5, metrics = \"auc\", verbose_eval=True, num_boost_round=10)\n",
    "model.fit(trainX, trainY)"
   ]
  },
  {
   "cell_type": "code",
   "execution_count": 21,
   "metadata": {},
   "outputs": [],
   "source": [
    "model.save_model(datapath+'../models/hill.bin')\n",
    "dill.dump([model, features, featureargs, featurefolder], open(datapath+\"../models/hill.pkl\", \"wb\"))"
   ]
  },
  {
   "cell_type": "code",
   "execution_count": 22,
   "metadata": {},
   "outputs": [
    {
     "data": {
      "text/plain": [
       "Text(0.5, 1.0, 'ROC curve (AUC = 0.703)')"
      ]
     },
     "execution_count": 22,
     "metadata": {},
     "output_type": "execute_result"
    },
    {
     "data": {
      "image/png": "[encoded data removed]",
      "text/plain": [
       "<Figure size 432x288 with 1 Axes>"
      ]
     },
     "metadata": {
      "needs_background": "light"
     },
     "output_type": "display_data"
    }
   ],
   "source": [
    "roc_auc, fpr, tpr, ROCthresholds = ROC_curve(trainingdatafolder, model, features)\n",
    "\n",
    "fig, ax = plt.subplots()\n",
    "ax.plot(fpr, tpr)\n",
    "ax.plot([0, 1], [0, 1], 'k--')\n",
    "ax.set_xlim([0.0, 1.0])\n",
    "ax.set_ylim([0.0, 1.0])\n",
    "ax.set_xlabel('False Positive Rate')\n",
    "ax.set_ylabel('True Positive Rate')\n",
    "ax.set_title('ROC curve (AUC = {0:.3f})'.format(roc_auc))"
   ]
  },
  {
   "cell_type": "markdown",
   "metadata": {},
   "source": [
    "# N-body"
   ]
  },
  {
   "cell_type": "code",
   "execution_count": 23,
   "metadata": {},
   "outputs": [],
   "source": [
    "datapath = '../training_data/'\n",
    "dset = 'resonant/'\n",
    "featurefolder = 'shadowtimes/'\n",
    "trainingdatafolder = datapath+dset+featurefolder\n",
    "features=None"
   ]
  },
  {
   "cell_type": "code",
   "execution_count": 24,
   "metadata": {},
   "outputs": [],
   "source": [
    "trainingdatafolder = datapath+dset+featurefolder\n",
    "trainX, trainY, testX, testY = train_test_split(trainingdatafolder, features)"
   ]
  },
  {
   "cell_type": "code",
   "execution_count": 25,
   "metadata": {},
   "outputs": [],
   "source": [
    "shadowstable = trainX['shadow_instability_time'] > 8.99e8"
   ]
  },
  {
   "cell_type": "markdown",
   "metadata": {},
   "source": [
    "3% had stability in shadow integration disagree with nominal integration"
   ]
  },
  {
   "cell_type": "code",
   "execution_count": 26,
   "metadata": {},
   "outputs": [
    {
     "data": {
      "text/plain": [
       "0.029128641080135017"
      ]
     },
     "execution_count": 26,
     "metadata": {},
     "output_type": "execute_result"
    }
   ],
   "source": [
    "(trainY != shadowstable).sum()/trainY.shape[0]"
   ]
  },
  {
   "cell_type": "code",
   "execution_count": 27,
   "metadata": {},
   "outputs": [
    {
     "name": "stdout",
     "output_type": "stream",
     "text": [
      "SCORE:                                              \n",
      "0.6929808                                           \n",
      "ERROR                                               \n",
      "0.01795402041738981                                 \n",
      "SCORE:                                                                        \n",
      "0.67464344                                                                    \n",
      "ERROR                                                                         \n",
      "0.01842240069527127                                                           \n",
      "SCORE:                                                                        \n",
      "0.6792827                                                                     \n",
      "ERROR                                                                         \n",
      "0.01082282838620357                                                           \n",
      "SCORE:                                                                        \n",
      "0.70676014                                                                    \n",
      "ERROR                                                                         \n",
      "0.01676707124092478                                                           \n",
      "SCORE:                                                                        \n",
      "0.6684986                                                            \n",
      "ERROR                                                                \n",
      "0.02069816066012801                                                  \n",
      "SCORE:                                                               \n",
      "0.66993928                                                           \n",
      "ERROR                                                                \n",
      "0.02195683690027352                                                  \n",
      "SCORE:                                                               \n",
      "0.66804376                                                           \n",
      "ERROR                                                                \n",
      "0.021452587271459052                                                 \n",
      "SCORE:                                                               \n",
      "0.5                                                                  \n",
      "ERROR                                                                \n",
      "0.0                                                                  \n",
      "SCORE:                                                               \n",
      "0.6831453200000001                                                   \n",
      "ERROR                                                                \n",
      "0.019315417525064122                                                 \n",
      "SCORE:                                                               \n",
      "0.6766174200000001                                                   \n",
      "ERROR                                                                \n",
      "0.019312691342689613                                                 \n",
      "SCORE:                                                                \n",
      "0.6772256                                                             \n",
      "ERROR                                                                 \n",
      "0.01870103855710017                                                   \n",
      "SCORE:                                                                \n",
      "0.6805470600000001                                                    \n",
      "ERROR                                                                 \n",
      "0.011872725802958306                                                  \n",
      "SCORE:                                                                \n",
      "0.66922856                                                            \n",
      "ERROR                                                                 \n",
      "0.02166152591678796                                                   \n",
      "SCORE:                                                                \n",
      "0.6786409600000001                                                    \n",
      "ERROR                                                                 \n",
      "0.0184003301267605                                                    \n",
      "SCORE:                                                                \n",
      "0.6859121800000001                                                    \n",
      "ERROR                                                                 \n",
      "0.019561061986180753                                                  \n",
      "SCORE:                                                                \n",
      "0.674735                                                              \n",
      "ERROR                                                                 \n",
      "0.02011847547031197                                                   \n",
      "SCORE:                                                                \n",
      "0.7046491400000001                                                    \n",
      "ERROR                                                                 \n",
      "0.017318676470963426                                                  \n",
      "SCORE:                                                                \n",
      "0.6969744400000001                                                    \n",
      "ERROR                                                                 \n",
      "0.018671435426498285                                                  \n",
      "SCORE:                                                                \n",
      "0.67815642                                                            \n",
      "ERROR                                                                 \n",
      "0.01799120025458666                                                   \n",
      "SCORE:                                                                \n",
      "0.70805694                                                            \n",
      "ERROR                                                                 \n",
      "0.015085408101571352                                                  \n",
      "SCORE:                                                                         \n",
      "0.7077447400000001                                                             \n",
      "ERROR                                                                          \n",
      "0.015499275865168407                                                           \n",
      "SCORE:                                                                         \n",
      "0.66706138                                                                     \n",
      "ERROR                                                                          \n",
      "0.016438714086531858                                                           \n",
      "SCORE:                                                                         \n",
      "0.70721174                                                                     \n",
      "ERROR                                                                          \n",
      "0.015697695136574437                                                           \n",
      "SCORE:                                                                         \n",
      "0.70604156                                                                     \n",
      "ERROR                                                                          \n",
      "0.01537075955797729                                                            \n",
      "SCORE:                                                                         \n",
      "0.67599798                                                                     \n",
      "ERROR                                                                          \n",
      "0.019230515915132203                                                           \n",
      "SCORE:                                                                         \n",
      "0.7020023                                                                      \n",
      "ERROR                                                                          \n",
      "0.01604169502611861                                                            \n",
      "SCORE:                                                                         \n",
      "0.68471048                                                                     \n",
      "ERROR                                                                          \n",
      "0.017967247204133504                                                           \n",
      "SCORE:                                                                         \n",
      "0.66099488                                                                     \n",
      "ERROR                                                                          \n",
      "0.01789011988890886                                                            \n",
      "SCORE:                                                                         \n",
      "0.7060164                                                                      \n",
      "ERROR                                                                          \n",
      "0.01574783121950022                                                            \n",
      "SCORE:                                                                         \n",
      "0.70700556                                                                     \n",
      "ERROR                                                                          \n",
      "0.01563315402926617                                                            \n",
      "SCORE:                                                                         \n",
      "0.69289566                                                                     \n",
      "ERROR                                                                          \n",
      "0.016527339022348504                                                           \n",
      "SCORE:                                                                         \n",
      "0.7031360999999999                                                             \n",
      "ERROR                                                                          \n",
      "0.016103915031912653                                                           \n",
      "SCORE:                                                                         \n",
      "0.67559652                                                                     \n",
      "ERROR                                                                          \n",
      "0.01761153255581753                                                            \n",
      "SCORE:                                                                         \n",
      "0.70673058                                                                     \n",
      "ERROR                                                                          \n",
      "0.01770644011502239                                                            \n",
      "SCORE:                                                                         \n",
      "0.67146362                                                                     \n",
      "ERROR                                                                          \n",
      "0.018588841057247417                                                           \n",
      "SCORE:                                                                         \n",
      "0.6671033399999999                                                             \n",
      "ERROR                                                                          \n",
      "0.018428558367519086                                                           \n",
      "SCORE:                                                                         \n",
      "0.5                                                                            \n",
      "ERROR                                                                          \n",
      "0.0                                                                            \n",
      "SCORE:                                                                         \n",
      "0.68120492                                                                     \n",
      "ERROR                                                                          \n",
      "0.020364116042784076                                                           \n",
      "SCORE:                                                                         \n",
      "0.70615604                                                                     \n",
      "ERROR                                                                          \n",
      "0.0177987948226065                                                             \n",
      "SCORE:                                                                         \n",
      "0.66662268                                                                     \n",
      "ERROR                                                                          \n",
      "0.01909189352688807                                                            \n",
      "SCORE:                                                                         \n",
      "0.68573436                                                                     \n",
      "ERROR                                                                          \n",
      "0.01942347314915588                                                            \n",
      "SCORE:                                                                         \n",
      "0.6759398600000001                                                             \n",
      "ERROR                                                                          \n",
      "0.020047803747587595                                                           \n",
      "SCORE:                                                                         \n",
      "0.7026469999999999                                                             \n",
      "ERROR                                                                          \n",
      "0.018125543246084792                                                           \n",
      "SCORE:                                                                         \n",
      "0.6981882399999999                                                             \n",
      "ERROR                                                                          \n",
      "0.016904040072110833                                                           \n",
      "SCORE:                                                                         \n",
      "0.6890563000000001                                                             \n",
      "ERROR                                                                          \n",
      "0.01541845870813762                                                            \n",
      "SCORE:                                                                         \n",
      "0.6828964799999999                                                             \n",
      "ERROR                                                                          \n",
      "0.019861079050526916                                                           \n",
      "SCORE:                                                                         \n",
      "0.70644638                                                                     \n",
      "ERROR                                                                          \n",
      "0.01573943275424991                                                            \n",
      "SCORE:                                                                         \n",
      "0.6756132                                                                      \n",
      "ERROR                                                                          \n",
      "0.019972740724096716                                                           \n",
      "SCORE:                                                                         \n",
      "0.68933574                                                                     \n",
      "ERROR                                                                          \n",
      "0.018981897077890726                                                           \n",
      "SCORE:                                                                         \n",
      "0.7038703399999999                                                             \n",
      "ERROR                                                                          \n",
      "0.018782936916007194                                                           \n",
      "100%|██████████| 50/50 [00:11<00:00,  4.93it/s, best loss: 0.29194306000000003]\n",
      "Optimization Time: %f seconds 11.145724773406982\n",
      "CPU times: user 11.1 s, sys: 243 ms, total: 11.3 s\n",
      "Wall time: 11.1 s\n"
     ]
    }
   ],
   "source": [
    "%%time\n",
    "trials = Trials()\n",
    "import time\n",
    "start = time.time()\n",
    "best = fmin(fn=objective, space = space, algo = tpe.suggest, max_evals = 50, trials = trials, rstate=np.random.RandomState(seed=0))\n",
    "end = time.time()\n",
    "print(\"Optimization Time: %f seconds\", (end  -start))"
   ]
  },
  {
   "cell_type": "code",
   "execution_count": 28,
   "metadata": {},
   "outputs": [
    {
     "data": {
      "text/plain": [
       "{'x_learning_rate': 0.19920254046579614,\n",
       " 'x_max_depth': 2,\n",
       " 'x_min_child': 4.0,\n",
       " 'x_pos_weight': 13.159685920910627,\n",
       " 'x_subsample': 0.9211190570281913,\n",
       " 'x_tree_colsample': 0.7488159420431533}"
      ]
     },
     "execution_count": 28,
     "metadata": {},
     "output_type": "execute_result"
    }
   ],
   "source": [
    "best"
   ]
  },
  {
   "cell_type": "code",
   "execution_count": 29,
   "metadata": {},
   "outputs": [
    {
     "name": "stdout",
     "output_type": "stream",
     "text": [
      "[0]\ttrain-auc:0.66536+0.0038668\ttest-auc:0.661185+0.00448844\n",
      "[1]\ttrain-auc:0.715042+0.0214481\ttest-auc:0.70571+0.0186714\n",
      "[2]\ttrain-auc:0.720583+0.00520418\ttest-auc:0.711199+0.0111802\n",
      "[3]\ttrain-auc:0.721101+0.00659697\ttest-auc:0.711955+0.0174144\n",
      "[4]\ttrain-auc:0.717294+0.0075326\ttest-auc:0.709242+0.020086\n",
      "[5]\ttrain-auc:0.72147+0.00861725\ttest-auc:0.712375+0.0182064\n",
      "[6]\ttrain-auc:0.723624+0.00534701\ttest-auc:0.714166+0.0172506\n",
      "[7]\ttrain-auc:0.727959+0.0032518\ttest-auc:0.717696+0.0126114\n",
      "[8]\ttrain-auc:0.727241+0.00344409\ttest-auc:0.716504+0.0142674\n",
      "[9]\ttrain-auc:0.727773+0.00459865\ttest-auc:0.717217+0.0164712\n"
     ]
    },
    {
     "data": {
      "text/plain": [
       "XGBClassifier(base_score=0.5, booster='gbtree', colsample_bylevel=1,\n",
       "              colsample_bytree=0.7488159420431533, gamma=0,\n",
       "              learning_rate=0.19920254046579614, max_delta_step=0, max_depth=2,\n",
       "              min_child_weight=4.0, missing=None, n_estimators=100, n_jobs=1,\n",
       "              nthread=None, objective='binary:logistic', random_state=0,\n",
       "              reg_alpha=0, reg_lambda=1, scale_pos_weight=13.159685920910627,\n",
       "              seed=None, silent=True, subsample=0.9211190570281913)"
      ]
     },
     "execution_count": 29,
     "metadata": {},
     "output_type": "execute_result"
    }
   ],
   "source": [
    "model = XGBClassifier(n_estimators=100, scale_pos_weight=best[\"x_pos_weight\"],\n",
    "                         learning_rate = best[\"x_learning_rate\"], \n",
    "                         max_depth = int(best[\"x_max_depth\"]), \n",
    "                         min_child_weight = best[\"x_min_child\"],\n",
    "                         subsample = best[\"x_subsample\"], \n",
    "                         colsample_bytree = best[\"x_tree_colsample\"])\n",
    "\n",
    "score = xgb.cv(model.get_xgb_params(), dtrain, nfold = 5, metrics = \"auc\", verbose_eval=True, num_boost_round=10)\n",
    "model.fit(trainX, trainY)"
   ]
  },
  {
   "cell_type": "code",
   "execution_count": 30,
   "metadata": {},
   "outputs": [],
   "source": [
    "model.save_model(datapath+'../models/nbody.bin')\n",
    "dill.dump([model, features, featureargs, featurefolder], open(datapath+\"../models/nbody.pkl\", \"wb\"))"
   ]
  },
  {
   "cell_type": "code",
   "execution_count": 31,
   "metadata": {},
   "outputs": [
    {
     "data": {
      "text/plain": [
       "Text(0.5, 1.0, 'ROC curve (AUC = 0.989)')"
      ]
     },
     "execution_count": 31,
     "metadata": {},
     "output_type": "execute_result"
    },
    {
     "data": {
      "image/png": "[encoded data removed]",
      "text/plain": [
       "<Figure size 432x288 with 1 Axes>"
      ]
     },
     "metadata": {
      "needs_background": "light"
     },
     "output_type": "display_data"
    }
   ],
   "source": [
    "roc_auc, fpr, tpr, ROCthresholds = ROC_curve(trainingdatafolder, model, features)\n",
    "\n",
    "fig, ax = plt.subplots()\n",
    "ax.plot(fpr, tpr)\n",
    "ax.plot([0, 1], [0, 1], 'k--')\n",
    "ax.set_xlim([0.0, 1.0])\n",
    "ax.set_ylim([0.0, 1.0])\n",
    "ax.set_xlabel('False Positive Rate')\n",
    "ax.set_ylabel('True Positive Rate')\n",
    "ax.set_title('ROC curve (AUC = {0:.3f})'.format(roc_auc))"
   ]
  },
  {
   "cell_type": "code",
   "execution_count": null,
   "metadata": {},
   "outputs": [],
   "source": []
  }
 ],
 "metadata": {
  "anaconda-cloud": {},
  "kernelspec": {
   "display_name": "Python 3",
   "language": "python",
   "name": "python3"
  },
  "language_info": {
   "codemirror_mode": {
    "name": "ipython",
    "version": 3
   },
   "file_extension": ".py",
   "mimetype": "text/x-python",
   "name": "python",
   "nbconvert_exporter": "python",
   "pygments_lexer": "ipython3",
   "version": "3.7.3"
  }
 },
 "nbformat": 4,
 "nbformat_minor": 2
}
